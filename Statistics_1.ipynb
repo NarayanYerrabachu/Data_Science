{
 "cells": [
  {
   "cell_type": "markdown",
   "id": "e8ef6fd4",
   "metadata": {},
   "source": [
    "Calculate the mean, median, mode and standard deviation for the problem\n",
    "statements 1& 2.\n",
    "\n",
    "**Problem Statement 1:**\n",
    "    \n",
    "    The marks awarded for an assignment set for a Year 8 class of 20 students were as\n",
    "    follows: 6 7 5 7 7 8 7 6 9 7 4 10 6 8 8 9 5 6 4 8"
   ]
  },
  {
   "cell_type": "code",
   "execution_count": 364,
   "id": "05044a06",
   "metadata": {},
   "outputs": [],
   "source": [
    "import numpy as np\n",
    "from scipy import stats\n",
    "\n",
    "import statistics\n"
   ]
  },
  {
   "cell_type": "code",
   "execution_count": 365,
   "id": "e4e20451",
   "metadata": {},
   "outputs": [],
   "source": [
    "marks = np.asarray([6,7,5,7,7,8,7,6,9,7,4,10,6,8,8,9,5,6,4,8])"
   ]
  },
  {
   "cell_type": "code",
   "execution_count": 366,
   "id": "175e9d48",
   "metadata": {},
   "outputs": [
    {
     "name": "stdout",
     "output_type": "stream",
     "text": [
      "mean:  6.85\n",
      "median:  7.0\n",
      "mode using scipy : ModeResult(mode=array([7]), count=array([5]))\n",
      "it returns first mode : 7\n",
      "Standard Deviation: 1.4142135623730951\n",
      "Standard Deviation using numpy: 1.5898113095584647\n"
     ]
    }
   ],
   "source": [
    "def printStatistics(inputParameter):\n",
    "    print('mean: ',np.mean(inputParameter))\n",
    "    print('median: ',np.median(inputParameter))\n",
    "    print('mode using scipy :',stats.mode(inputParameter))\n",
    "    print('it returns first mode :',statistics.mode(inputParameter))\n",
    "    print('Standard Deviation:', statistics.stdev(inputParameter))\n",
    "    print('Standard Deviation using numpy:', np.std(inputParameter))\n",
    "    \n",
    "printStatistics(marks)"
   ]
  },
  {
   "cell_type": "markdown",
   "id": "dc4ed38c",
   "metadata": {},
   "source": [
    "**Problem Statement 2:**\n",
    "    \n",
    "The number of calls from motorists per day for roadside service was recorded for a\n",
    "particular month:\n",
    "    \n",
    "28, 122, 217, 130, 120, 86, 80, 90, 140, 120, 70, 40, 145, 113, 90, 68, 174, 194, 170,100, 75, 104, 97, 75,123, 100, 75, 104, 97, 75, 123, 100, 89, 120, 109"
   ]
  },
  {
   "cell_type": "code",
   "execution_count": 367,
   "id": "b5ef971d",
   "metadata": {},
   "outputs": [
    {
     "name": "stdout",
     "output_type": "stream",
     "text": [
      "mean:  107.51428571428572\n",
      "median:  100.0\n",
      "mode using scipy : ModeResult(mode=array([75]), count=array([4]))\n",
      "it returns first mode : 75\n",
      "Standard Deviation: 39.331920878594275\n",
      "Standard Deviation using numpy: 38.77287080168403\n"
     ]
    }
   ],
   "source": [
    "nr_of_calls =np.asarray([28, 122, 217, 130, 120, 86, 80, 90, 140, 120, 70, 40, 145, 113, 90, 68, 174, 194, 170,100, 75, 104, 97, 75,123, 100, 75, 104, 97, 75, 123, 100, 89, 120, 109])\n",
    "\n",
    "printStatistics(nr_of_calls)"
   ]
  },
  {
   "cell_type": "markdown",
   "id": "64efda6f",
   "metadata": {},
   "source": [
    "**Problem Statement 3:**\n",
    "\n",
    "The number of times I go to the gym in weekdays, are given below along with its associated probability:\n",
    "\n",
    "x = 0, 1, 2, 3, 4, 5\n",
    "\n",
    "f(x) = 0.09, 0.15, 0.40, 0.25, 0.10, 0.01\n",
    "\n",
    "Calculate the mean no. of workouts in a week. Also evaluate the variance involved in it.\n",
    "\n",
    "\n"
   ]
  },
  {
   "cell_type": "code",
   "execution_count": 368,
   "id": "9595a273",
   "metadata": {},
   "outputs": [],
   "source": [
    "x = np.asarray([0,1,2,3,4,5])\n",
    "fx = np.array([0.09,0.15,0.40,0.25,0.10,0.01])"
   ]
  },
  {
   "cell_type": "code",
   "execution_count": 369,
   "id": "2089dfab",
   "metadata": {},
   "outputs": [
    {
     "name": "stdout",
     "output_type": "stream",
     "text": [
      "workouts Mean usimg formula: 2.15\n",
      "workouts Variance usimg formula: 1.2500000000000002\n",
      "****************************************\n",
      "workouts Mean using numpy: 2.15\n",
      "workouts Variance using numpy: [1.2275]\n"
     ]
    }
   ],
   "source": [
    "mean_formula = sum([x[i]*fx[i] for i in range(len(x))])\n",
    "\n",
    "variance_formula = (sum([((x[i]-mean)**2)*fx[i] for i in range(len(x))]))\n",
    "print(\"workouts Mean usimg formula:\", mean_formula)\n",
    "print(\"workouts Variance usimg formula:\", variance_formula)\n",
    "\n",
    "\n",
    "print(\"****************************************\")\n",
    "\n",
    "mean=np.dot(x,fx)\n",
    "variance_of_x=(x-mean)**2\n",
    "variance = np.dot(variance_of_x.reshape(1,-1),fx)\n",
    "print(\"workouts Mean using numpy:\", mean)\n",
    "print(\"workouts Variance using numpy:\", variance)\n",
    "\n",
    "\n"
   ]
  },
  {
   "cell_type": "markdown",
   "id": "73427bf3",
   "metadata": {},
   "source": [
    "**Problem Statement 4:**\n",
    "    \n",
    "Let the continuous random variable D denote the diameter of the hole drilled in an\n",
    "aluminum sheet. The target diameter to be achieved is 12.5mm. Random\n",
    "disturbances in the process often result in inaccuracy.\n",
    "Historical data shows that the distribution of D can be modelled by the PDF (d) =\n",
    "20e−20(d−12.5), d ≥ 12.5. If a part with diameter > 12.6 mm needs to be scrapped,\n",
    "what is the proportion of those parts? What is the CDF when the diameter is of 11\n",
    "mm? What is your conclusion regarding the proportion of scraps?"
   ]
  },
  {
   "cell_type": "code",
   "execution_count": 370,
   "id": "2bba2fc9",
   "metadata": {},
   "outputs": [
    {
     "name": "stdout",
     "output_type": "stream",
     "text": [
      "Parts need to scrapped when d >12.6mm is :0.13533528323661398, 1.4196407407851444e-09\n",
      "CDF when d= 11mm is:inf,inf\n"
     ]
    }
   ],
   "source": [
    "from scipy import integrate\n",
    "\n",
    "import warnings\n",
    "\n",
    "#suppress warnings\n",
    "warnings.filterwarnings('ignore')\n",
    "PDF=lambda d:20*(np.exp((-20*(d-12.5))))\n",
    "x = 12.6\n",
    "P_x=integrate.quad(PDF,x,np.inf)\n",
    "y = 11\n",
    "CDF=integrate.quad(PDF,-np.inf,y)\n",
    "print(f\"Parts need to scrapped when d >12.6mm is :{P_x[0]}, {P_x[1]}\")\n",
    "\n",
    "print(f\"CDF when d= 11mm is:{CDF[0]},{CDF[1]}\")\n",
    "\n",
    "\n"
   ]
  },
  {
   "cell_type": "markdown",
   "id": "786eee7e",
   "metadata": {},
   "source": [
    "**Conclusion:**\n",
    "\n",
    "The given function [PDF (𝑑) = 20𝑒−20(𝑑−12.5)] is to achieve 12.5 mm diameter for an aluminum sheet.\n",
    "\n",
    "If a part with diameter < 12.5, then the part should be reworked. \n",
    "\n",
    "PDF is not defined for d=11\n",
    "\n",
    "If the diameter ≥ 12.5 12.5 mm the proportion of scraps follow the equation: 1-e^{-20(x-12.5)}"
   ]
  },
  {
   "cell_type": "markdown",
   "id": "ea46a61a",
   "metadata": {},
   "source": [
    "**Problem Statement 5:**\n",
    "\n",
    "A company manufactures LED bulbs with a faulty rate of 30%. If I randomly select 6\n",
    "chosen LEDs, what is the probability of having 2 faulty LEDs in my sample?\n",
    "Calculate the average value of this process. Also evaluate the standard deviation\n",
    "associated with it."
   ]
  },
  {
   "cell_type": "code",
   "execution_count": 371,
   "id": "3ea80b0c",
   "metadata": {},
   "outputs": [],
   "source": [
    "import matplotlib.pyplot as plt\n",
    "import seaborn as sns\n",
    "%matplotlib inline\n",
    "import pandas as pd\n",
    "import scipy.special"
   ]
  },
  {
   "cell_type": "code",
   "execution_count": 372,
   "id": "5943eb2c",
   "metadata": {},
   "outputs": [
    {
     "name": "stdout",
     "output_type": "stream",
     "text": [
      "Enter a number for faulty LED bulbs: 30\n",
      "Select random number to choose LEDs: 6\n",
      "   x        fx\n",
      "0  0  0.117649\n",
      "1  1  0.302526\n",
      "2  2  0.324135\n",
      "3  3  0.185220\n",
      "4  4  0.059535\n",
      "5  5  0.010206\n",
      "6  6  0.000729\n"
     ]
    }
   ],
   "source": [
    "x = int(input('Enter a number for faulty LED bulbs: '))/100  #faulty = x/100\n",
    "y = 1-x #not faulty = 1-x\n",
    "n=int(input('Select random number to choose LEDs: ')) # randomly select 6 chosen LEDs\n",
    "\n",
    "df=pd.DataFrame({'x':[int(i) for i in range(int(n)+1)],\n",
    "                 'fx':[scipy.special.comb(n,i)*(x**i)*(y**(n-i)) for i in range(int(n)+1)]})\n",
    "print(df)"
   ]
  },
  {
   "cell_type": "code",
   "execution_count": 373,
   "id": "140ac64c",
   "metadata": {},
   "outputs": [
    {
     "name": "stdout",
     "output_type": "stream",
     "text": [
      "x     2.000000\n",
      "fx    0.324135\n",
      "Name: 2, dtype: float64\n"
     ]
    },
    {
     "data": {
      "text/plain": [
       "Text(0, 0.5, 'Faulty Probability')"
      ]
     },
     "execution_count": 373,
     "metadata": {},
     "output_type": "execute_result"
    },
    {
     "data": {
      "image/png": "[encoded data removed]",
      "text/plain": [
       "<Figure size 720x360 with 1 Axes>"
      ]
     },
     "metadata": {
      "needs_background": "light"
     },
     "output_type": "display_data"
    }
   ],
   "source": [
    "warnings.simplefilter(action=\"ignore\", category=FutureWarning)\n",
    "\n",
    "print(df.iloc[2])\n",
    "plt.figure(figsize=(10,5))\n",
    "sns.barplot('x','fx',data=df)\n",
    "plt.xlabel('Number of Faulty Leds')\n",
    "plt.ylabel('Faulty Probability')"
   ]
  },
  {
   "cell_type": "code",
   "execution_count": 374,
   "id": "6f021f03",
   "metadata": {},
   "outputs": [
    {
     "name": "stdout",
     "output_type": "stream",
     "text": [
      "mean 2.0\n",
      "Standard Deviation :  1.0\n"
     ]
    }
   ],
   "source": [
    "df.Result=df.x*df.fx\n",
    "mean=np.round(df.Result.sum())\n",
    "print('mean',mean)\n",
    "df['variance']=((df.x-mean)**2)*df.fx\n",
    "std=np.sqrt(df.variance.sum())\n",
    "print(\"Standard Deviation : \",np.round(std))"
   ]
  },
  {
   "cell_type": "markdown",
   "id": "92499eff",
   "metadata": {},
   "source": [
    "       ***************************Alternative Solution for Problem Statement 5 *****************"
   ]
  },
  {
   "cell_type": "code",
   "execution_count": 375,
   "id": "c688500c",
   "metadata": {},
   "outputs": [
    {
     "name": "stdout",
     "output_type": "stream",
     "text": [
      "Enter a number for faulty LED bulbs: 30\n",
      "Select random number to choose LEDs: 6\n",
      "Please enter total number of LED bulbs: 50000\n",
      "bn: 0.32308\n",
      "Mean is 2.0\n",
      "Standard deviation for this process is 1.0\n"
     ]
    }
   ],
   "source": [
    "from scipy.stats import binom\n",
    "p = int(input('Enter a number for faulty LED bulbs: '))/100  #faulty = x/100\n",
    "\n",
    "n=int(input('Select random number to choose LEDs: ')) # randomly select 6 chosen LEDs\n",
    "\n",
    "size=int(input('Please enter total number of LED bulbs: '))\n",
    "bn = sum(np.random.binomial(n, p, size) == 2)/size\n",
    "print('bn:',bn)\n",
    "\n",
    "mean_1 , variance_1 = binom.stats(n, p)\n",
    "std_1 = variance_1**0.5\n",
    "print('Mean is',np.round(mean_1))\n",
    "print('Standard deviation for this process is',np.round(std_1))"
   ]
  },
  {
   "cell_type": "code",
   "execution_count": 376,
   "id": "5bb11fc8",
   "metadata": {},
   "outputs": [
    {
     "data": {
      "image/png": "[encoded data removed]",
      "text/plain": [
       "<Figure size 432x288 with 1 Axes>"
      ]
     },
     "metadata": {
      "needs_background": "light"
     },
     "output_type": "display_data"
    }
   ],
   "source": [
    "sns.distplot(np.random.binomial(n, p, size), hist=True, kde=False)\n",
    "\n",
    "plt.show()"
   ]
  },
  {
   "cell_type": "markdown",
   "id": "769d9052",
   "metadata": {},
   "source": [
    "**Problem Statement 6:**\n",
    "\n",
    "Gaurav and Barakha are both preparing for entrance exams. Gaurav attempts to\n",
    "solve 8 questions per day with a correction rate of 75%, while Barakha averages\n",
    "around 12 questions per day with a correction rate of 45%. What is the probability\n",
    "that each of them will solve 5 questions correctly? What happens in cases of 4 and 6\n",
    "correct solutions? What do you infer from it? What are the two main governing\n",
    "factors affecting their ability to solve questions correctly? Give a pictorial\n",
    "representation of the same to validate your answer."
   ]
  },
  {
   "cell_type": "code",
   "execution_count": 377,
   "id": "c3b09a04",
   "metadata": {},
   "outputs": [
    {
     "name": "stdout",
     "output_type": "stream",
     "text": [
      "The probability that each of them will solve 5 questions correctly:0.04619989057299213\n",
      "The probability that each of them will solve 4 and 6 questions correctly:0.018374956477894576\n"
     ]
    }
   ],
   "source": [
    "#Gaurav- avg=8,p1=0.75\n",
    "#Barakha- avg=12,p2=0.45\n",
    "P_G_5 = binom.pmf(5,8,0.75) #G(5)\n",
    "P_B_5 = binom.pmf(5,12,0.45)#B(5)\n",
    "P_5_together = P_G_5 * P_B_5 #G(5)*B(5)\n",
    "\n",
    "P_G_4 = binom.pmf(4,8,0.75)#G(4)\n",
    "P_B_4 = binom.pmf(4,12,0.45)#B(4)\n",
    "P_G_6 = binom.pmf(6,8,0.75)#G(4)\n",
    "P_B_6 = binom.pmf(6,12,0.45)#B(6)\n",
    "P_4_6_together = P_G_4 * P_B_6 #G(4)*B(6)\n",
    "\n",
    "\n",
    "print(f\"The probability that each of them will solve 5 questions correctly:{P_5_together}\")\n",
    "print(f\"The probability that each of them will solve 4 and 6 questions correctly:{P_4_6_together}\")\n"
   ]
  },
  {
   "cell_type": "code",
   "execution_count": 378,
   "id": "976acd9a",
   "metadata": {},
   "outputs": [],
   "source": [
    "\n",
    "def gauravBinomialPlot(n,p):\n",
    "    fig,ax=plt.subplots(1,1)\n",
    "    x = np.arange(binom.ppf(0.01, n, p),binom.ppf(0.99, n, p))\n",
    "    ax.plot(x, binom.pmf(x, n, p), 'r', ms=8, label='binom pmf')\n",
    "    ax.vlines(x, 0, binom.pmf(x, n, p), colors='g', lw=5, alpha=0.5)\n",
    "    plt.xlabel('Number of questions solved correctly')\n",
    "    plt.ylabel('Probability of solving')\n",
    "    \n",
    "\n",
    "def barakhaBinomialPlot(n,p):\n",
    "    fig,ax=plt.subplots(1,1)\n",
    "    x = np.arange(binom.ppf(0.01, n, p),binom.ppf(0.99, n, p))\n",
    "    ax.plot(x, binom.pmf(x, n, p), 'y', ms=8, label='binom pmf')\n",
    "    ax.vlines(x, 0, binom.pmf(x, n, p), colors='c', lw=5, alpha=0.5)\n",
    "    plt.xlabel('Number of questions solved correctly')\n",
    "    plt.ylabel('Probability of solving')"
   ]
  },
  {
   "cell_type": "code",
   "execution_count": 379,
   "id": "8bcc7c45",
   "metadata": {},
   "outputs": [
    {
     "data": {
      "image/png": "[encoded data removed]",
      "text/plain": [
       "<Figure size 432x288 with 1 Axes>"
      ]
     },
     "metadata": {
      "needs_background": "light"
     },
     "output_type": "display_data"
    }
   ],
   "source": [
    "#Gaurav\n",
    "gauravBinomialPlot(8,0.75)"
   ]
  },
  {
   "cell_type": "code",
   "execution_count": 380,
   "id": "abd71322",
   "metadata": {},
   "outputs": [
    {
     "data": {
      "image/png": "[encoded data removed]",
      "text/plain": [
       "<Figure size 432x288 with 1 Axes>"
      ]
     },
     "metadata": {
      "needs_background": "light"
     },
     "output_type": "display_data"
    }
   ],
   "source": [
    "#Barakha\n",
    "barakhaBinomialPlot(12,0.45)"
   ]
  },
  {
   "cell_type": "code",
   "execution_count": 381,
   "id": "989b3528",
   "metadata": {},
   "outputs": [
    {
     "data": {
      "text/plain": [
       "<matplotlib.collections.LineCollection at 0x7fe558825460>"
      ]
     },
     "execution_count": 381,
     "metadata": {},
     "output_type": "execute_result"
    },
    {
     "data": {
      "image/png": "[encoded data removed]",
      "text/plain": [
       "<Figure size 432x288 with 1 Axes>"
      ]
     },
     "metadata": {
      "needs_background": "light"
     },
     "output_type": "display_data"
    }
   ],
   "source": [
    "fig,ax=plt.subplots(1,1)\n",
    "x = np.arange(1,11)\n",
    "ax.plot(x, binom.pmf(x,8,0.75)*binom.pmf(x,12,0.45), 'g', ms=8, label='binom pmf')\n",
    "ax.vlines(x, 0, binom.pmf(x,8,0.75)*binom.pmf(x,12,0.45), colors='b', lw=5, alpha=0.5)\n"
   ]
  },
  {
   "cell_type": "code",
   "execution_count": 382,
   "id": "6dbdaecf",
   "metadata": {},
   "outputs": [
    {
     "data": {
      "text/plain": [
       "0.04619989057299213"
      ]
     },
     "execution_count": 382,
     "metadata": {},
     "output_type": "execute_result"
    }
   ],
   "source": [
    "P_5_together"
   ]
  },
  {
   "cell_type": "code",
   "execution_count": 383,
   "id": "028e704f",
   "metadata": {},
   "outputs": [
    {
     "name": "stdout",
     "output_type": "stream",
     "text": [
      "Probability to solve 4 correctly for Gaurav is 0.08651733398437506\n",
      "Probability to solve 6 correctly for Gaurav is 0.31146240234375017\n",
      "Probability to solve 4 correctly for Barkha is 0.16996393213605795\n",
      "Probability to solve 6 correctly for Barkha is 0.21238468214026424\n"
     ]
    }
   ],
   "source": [
    "print('Probability to solve 4 correctly for Gaurav is', P_G_4)\n",
    "print('Probability to solve 6 correctly for Gaurav is', P_G_6)\n",
    "print('Probability to solve 4 correctly for Barkha is', P_B_4)\n",
    "print('Probability to solve 6 correctly for Barkha is', P_B_6)\n",
    "\n"
   ]
  },
  {
   "cell_type": "markdown",
   "id": "dda18d36",
   "metadata": {},
   "source": [
    "**The two main factors affecting the ability to solve questions correctly are:**\n",
    "\n",
    "1) Correction rate\n",
    "\n",
    "2) Number of questions solved per day\n",
    "\n",
    "The correction rate increases the chances of the distribution to be left skewed increases. \n",
    "\n",
    "As the number of questions increases the distribution skewness decreases."
   ]
  },
  {
   "cell_type": "markdown",
   "id": "460e7a59",
   "metadata": {},
   "source": [
    "**Problem Statement 7:**\n",
    "\n",
    "Customers arrive at a rate of 72 per hour to my shop. What is the probability of k\n",
    "customers arriving in 4 minutes? a) 5 customers, b) not more than 3 customers, c)\n",
    "more than 3 customers. Give a pictorial representation of the same to validate your answer."
   ]
  },
  {
   "cell_type": "code",
   "execution_count": 384,
   "id": "ad9e0663",
   "metadata": {},
   "outputs": [
    {
     "data": {
      "image/png": "[encoded data removed]",
      "text/plain": [
       "<Figure size 432x288 with 1 Axes>"
      ]
     },
     "metadata": {
      "needs_background": "light"
     },
     "output_type": "display_data"
    },
    {
     "name": "stdout",
     "output_type": "stream",
     "text": [
      "The probability of arriving 5 cutomers in 4 minutes : 0.17474768364388296\n",
      "The probability of arriving not more than 3 customers in 4 minutes: 0.15169069760753714\n",
      "The Probability of more than 3 customers arriving in 4 minutes is : 1.0\n"
     ]
    }
   ],
   "source": [
    "from scipy.stats import poisson\n",
    "import seaborn as sb\n",
    "\n",
    "\n",
    "mu = 4*(72/60) #customers come per 4 minutes\n",
    "\n",
    "binomial = poisson.rvs(mu=mu, size=200)\n",
    "\n",
    "ax = sb.distplot(binomial)\n",
    "ax.set(xlabel='Customers per 4 minutes', ylabel='Frequency')\n",
    "plt.title('Poisson distribution')\n",
    "plt.show()\n",
    "\n",
    "print(\"The probability of arriving 5 cutomers in 4 minutes :\", poisson.pmf(k=5,mu=mu))\n",
    "print(\"The probability of arriving not more than 3 customers in 4 minutes:\", poisson.pmf(k=3, mu=mu))\n",
    "print(\"The Probability of more than 3 customers arriving in 4 minutes is :\", round(1-poisson.cdf(k=3,mu=mu)))\n",
    "\n"
   ]
  },
  {
   "cell_type": "code",
   "execution_count": 385,
   "id": "911e7789",
   "metadata": {},
   "outputs": [
    {
     "name": "stdout",
     "output_type": "stream",
     "text": [
      "The probability of arriving 5 cutomers in 4 minutes : 0.17474768364388296\n",
      "The probability of arriving not more than 3 customers in 4 minutes: 0.15169069760753714\n",
      "The Probability of more than 3 customers arriving in 4 minutes is : 0.2942299164965642\n"
     ]
    },
    {
     "data": {
      "image/png": "[encoded data removed]",
      "text/plain": [
       "<Figure size 432x288 with 1 Axes>"
      ]
     },
     "metadata": {
      "needs_background": "light"
     },
     "output_type": "display_data"
    }
   ],
   "source": [
    "import matplotlib.cm as cm\n",
    "x = np.arange(0,25)\n",
    "prob = poisson.cdf(x, mu)\n",
    "y =  prob[3]\n",
    "\n",
    "print(\"The probability of arriving 5 cutomers in 4 minutes :\", poisson.pmf(k=5,mu=mu))\n",
    "print(\"The probability of arriving not more than 3 customers in 4 minutes:\", poisson.pmf(k=3, mu=mu))\n",
    "print(\"The Probability of more than 3 customers arriving in 4 minutes is :\", y)\n",
    "\n",
    "\n",
    "\n",
    "plt.plot(prob)\n",
    "plt.plot((3,3),(0,1))\n",
    "\n",
    "plt.scatter(3, y, color='r')\n",
    "\n",
    "plt.text(3,y,'({}, {})'.format(3, round(y,3)))\n",
    "plt.title('CDF of poisson distribution')\n",
    "\n",
    "plt.show()\n",
    "\n"
   ]
  },
  {
   "cell_type": "markdown",
   "id": "f605bd5e",
   "metadata": {},
   "source": [
    "**Problem Statement 8:**\n",
    "\n",
    "I work as a data analyst in Aeon Learning Pvt. Ltd. After analyzing data, I make\n",
    "reports, where I have the efficiency of entering 77 words per minute with 6 errors per\n",
    "hour. What is the probability that I will commit 2 errors in a 455-word financial report?\n",
    "What happens when the no. of words increases/decreases (in case of 1000 words,\n",
    "255 words)?\n",
    "How is the λ affected?\n",
    "How does it influence the PMF?\n",
    "Give a pictorial representation of the same to validate your answer.\n",
    "\n"
   ]
  },
  {
   "cell_type": "code",
   "execution_count": 386,
   "id": "eba33fd3",
   "metadata": {},
   "outputs": [
    {
     "name": "stdout",
     "output_type": "stream",
     "text": [
      "The pobability of commiting 2 errors in 455 words financial report is : 0.09669027375144444\n",
      "The pobability of commiting 2 errors in 1000 words financial report is : 0.23012815007300153\n",
      "The pobability of commiting 2 errors in 255 words financial report is : 0.039377135392854104\n"
     ]
    },
    {
     "data": {
      "image/png": "[encoded data removed]",
      "text/plain": [
       "<Figure size 1296x576 with 2 Axes>"
      ]
     },
     "metadata": {
      "needs_background": "light"
     },
     "output_type": "display_data"
    }
   ],
   "source": [
    "\n",
    "error_mu=0.1/77\n",
    "def getMu(n):\n",
    "    return n * error_mu\n",
    "print(\"The pobability of commiting 2 errors in 455 words financial report is :\",poisson.pmf(2,mu=getMu(455)))\n",
    "print(f\"The pobability of commiting 2 errors in 1000 words financial report is :\",poisson.pmf(2,mu=getMu(1000)))\n",
    "print(f\"The pobability of commiting 2 errors in 255 words financial report is :\",poisson.pmf(2,mu=getMu(255)))\n",
    "x=np.arange(0,10)\n",
    "fig = plt.figure(figsize=(18, 8))\n",
    "x = np.arange(0,10)\n",
    "mu_pdf_1 = poisson.pmf(x,mu=getMu(455))\n",
    "mu_pdf_2 = poisson.pmf(x,mu=getMu(1000))\n",
    "mu_pdf_3 = poisson.pmf(x,mu=getMu(255))\n",
    "plt.subplot(1,2,1)\n",
    "plt.plot(x, mu_pdf_1, 'y-', label='λ: 0.59')\n",
    "plt.plot(x, mu_pdf_2, 'b-', label='λ: 1.299')\n",
    "plt.plot(x, mu_pdf_3, 'g-', label='λ: 0.33')\n",
    "plt.legend()\n",
    "plt.title('PDF for different lambda')\n",
    "plt.subplot(1, 2, 2)\n",
    "x = np.arange(0,10)\n",
    "mu_cdf_1 = poisson.cdf(x,mu=getMu(455))\n",
    "mu_cdf_2 = poisson.cdf(x,mu=getMu(1000))\n",
    "mu_cdf_3 = poisson.cdf(x,mu=getMu(255))\n",
    "plt.plot(x, mu_cdf_1, 'y-',label='λ: 0.59')\n",
    "plt.plot(x, mu_cdf_2, 'b-', label='λ: 1.299')\n",
    "plt.plot(x, mu_cdf_3, 'g-', label='λ: 0.33')\n",
    "plt.legend()\n",
    "plt.title('CDF for different lambda')\n",
    "plt.show()\n",
    "\n",
    "\n",
    "     "
   ]
  },
  {
   "cell_type": "code",
   "execution_count": 387,
   "id": "71a107ff",
   "metadata": {},
   "outputs": [
    {
     "data": {
      "text/plain": [
       "<matplotlib.collections.LineCollection at 0x7fe5589656a0>"
      ]
     },
     "execution_count": 387,
     "metadata": {},
     "output_type": "execute_result"
    },
    {
     "data": {
      "image/png": "[encoded data removed]",
      "text/plain": [
       "<Figure size 1080x360 with 1 Axes>"
      ]
     },
     "metadata": {
      "needs_background": "light"
     },
     "output_type": "display_data"
    }
   ],
   "source": [
    "x=range(100,1000,50)\n",
    "mu=[i*error_mu for i in x]\n",
    "fig,ax = plt.subplots(1,1,figsize=(15,5))\n",
    "ax.plot(x,poisson.pmf(2,mu), 'b', ms=8, label='poisson pmf')\n",
    "ax.vlines(x,0, poisson.pmf(2,mu), colors='c', lw=5, alpha=0.5)\n"
   ]
  },
  {
   "cell_type": "markdown",
   "id": "bad5285a",
   "metadata": {},
   "source": [
    "**As the number of words increase probability of getting errors increases**"
   ]
  },
  {
   "cell_type": "code",
   "execution_count": 388,
   "id": "754e2cee",
   "metadata": {},
   "outputs": [
    {
     "data": {
      "text/plain": [
       "<matplotlib.collections.LineCollection at 0x7fe55a607340>"
      ]
     },
     "execution_count": 388,
     "metadata": {},
     "output_type": "execute_result"
    },
    {
     "data": {
      "image/png": "[encoded data removed]",
      "text/plain": [
       "<Figure size 1080x360 with 1 Axes>"
      ]
     },
     "metadata": {
      "needs_background": "light"
     },
     "output_type": "display_data"
    }
   ],
   "source": [
    "fig,ax = plt.subplots(1,1,figsize=(15,5))\n",
    "ax.plot(x,mu, 'b', ms=8, label='poisson pmf')\n",
    "ax.vlines(x,0,mu, colors='g', lw=5, alpha=0.5)\n"
   ]
  },
  {
   "cell_type": "markdown",
   "id": "95ada436",
   "metadata": {},
   "source": [
    "**As the number of words increase the  mu value increasing**"
   ]
  },
  {
   "cell_type": "markdown",
   "id": "20c5627e",
   "metadata": {},
   "source": [
    "**Problem Statement 9:**\n",
    "\n",
    "Let the continuous random variable D denote the diameter of the hole drilled in an\n",
    "aluminum sheet. The target diameter to be achieved is 12.5mm. Random\n",
    "disturbances in the process often result in inaccuracy.\n",
    "Historical data shows that the distribution of D can be modelled by the PDF, f(d) =\n",
    "20e−20(d−12.5), d ≥ 12.5. If a part with diameter > 12.6 mm needs to be scrapped,\n",
    "what is the proportion of those parts? What is the CDF when the diameter is of 11\n",
    "mm?\n",
    "What is the conclusion of this experiment?"
   ]
  },
  {
   "cell_type": "code",
   "execution_count": 389,
   "id": "72306ae3",
   "metadata": {},
   "outputs": [
    {
     "name": "stdout",
     "output_type": "stream",
     "text": [
      "Parts need to scrapped when d >12.6mm is :0.13533528323661398, 1.4196407407851444e-09\n",
      "CDF when d= 11mm is:inf,inf\n"
     ]
    }
   ],
   "source": [
    "from scipy import integrate\n",
    "\n",
    "import warnings\n",
    "\n",
    "#suppress warnings\n",
    "warnings.filterwarnings('ignore')\n",
    "PDF=lambda d:20*(np.exp((-20*(d-12.5))))\n",
    "x = 12.6\n",
    "P_x=integrate.quad(PDF,x,np.inf)\n",
    "y = 11\n",
    "CDF=integrate.quad(PDF,-np.inf,y)\n",
    "print(f\"Parts need to scrapped when d >12.6mm is :{P_x[0]}, {P_x[1]}\")\n",
    "\n",
    "print(f\"CDF when d= 11mm is:{CDF[0]},{CDF[1]}\")"
   ]
  },
  {
   "cell_type": "markdown",
   "id": "55beff0b",
   "metadata": {},
   "source": [
    "**Conclusion:**\n",
    "\n",
    "The given function [PDF (𝑑) = 20𝑒−20(𝑑−12.5)] is to achieve 12.5 mm diameter for an aluminum sheet.\n",
    "If a part with diameter < 12.5, then the part should be reworked.\n",
    "PDF is not defined for d=11"
   ]
  },
  {
   "cell_type": "markdown",
   "id": "579e1602",
   "metadata": {},
   "source": [
    "**Problem Statement 10:**\n",
    "\n",
    "Please compute the following:\n",
    "    \n",
    "a) P(Z > 1.26), . P(Z < −0.86), P(Z > −1.37), P(−1.25 < Z < 0.37), . P(Z ≤ −4.6)\n",
    "\n",
    "b) Find the value z such that P(Z > z) = 0.05\n",
    "\n",
    "c) Find the value of z such that P(−z < Z < z) = 0.99"
   ]
  },
  {
   "cell_type": "code",
   "execution_count": 390,
   "id": "ecccb763",
   "metadata": {},
   "outputs": [
    {
     "name": "stdout",
     "output_type": "stream",
     "text": [
      "P(Z>1.26)=0.103835\n",
      "P(Z<-0.86)=0.194895\n",
      "P(Z>-1.37) =0.914657\n",
      "P(−1.25 < Z < 0.37) =0.538659 \n",
      "P(Z ≤ −4.6) =0.000002\n"
     ]
    }
   ],
   "source": [
    "from scipy.stats import norm\n",
    "def P(z,b=-np.inf) :\n",
    "    return integrate.quad(norm.pdf,b,z)[0]\n",
    "x= 1-P(1.26)\n",
    "y=P(-0.86)\n",
    "z_=(1-P(-1.37))\n",
    "w=P(0.37,b=-1.25)\n",
    "v=P(-4.6)\n",
    "print('P(Z>1.26)=%.6f'%x)\n",
    "print('P(Z<-0.86)=%.6f'%y)\n",
    "print('P(Z>-1.37) =%.6f'%z_)\n",
    "print('P(−1.25 < Z < 0.37) =%.6f '%w)\n",
    "print('P(Z ≤ −4.6) =%.6f'%v)"
   ]
  },
  {
   "cell_type": "code",
   "execution_count": 391,
   "id": "807d660d",
   "metadata": {},
   "outputs": [
    {
     "name": "stdout",
     "output_type": "stream",
     "text": [
      "P(Z>z)=0.05 is 1.64\n",
      "𝑃(−𝑧 < 𝑍 < 𝑧) = 0.99 is 2.58\n"
     ]
    }
   ],
   "source": [
    "print('P(Z>z)=0.05 is %.2f'%(-1*norm.ppf(0.05)))\n",
    "print('𝑃(−𝑧 < 𝑍 < 𝑧) = 0.99 is %.2f'%(abs(norm.ppf(0.005))))"
   ]
  },
  {
   "cell_type": "markdown",
   "id": "90fd1003",
   "metadata": {},
   "source": [
    "**Problem Statement 11:**\n",
    "\n",
    "The current flow in a copper wire follow a normal distribution with a mean of 10 mA\n",
    "and a variance of 4 (mA)2.\n",
    "What is the probability that a current measurement will exceed 13 mA? What is the\n",
    "probability that a current measurement is between 9 and 11mA? Determine the\n",
    "current measurement which has a probability of 0.98."
   ]
  },
  {
   "cell_type": "code",
   "execution_count": 392,
   "id": "a250fb3d",
   "metadata": {},
   "outputs": [
    {
     "name": "stdout",
     "output_type": "stream",
     "text": [
      "2.0\n",
      "Probability that a current measurement will exceed 13 mA= 0.06680720126885797\n",
      "Z-score for 9 mA current is= -0.5\n",
      "Z-score for 11 mA current is= 0.5\n",
      "P(Z < -0.5) =0.309\n",
      "P(Z < 0.5) =0.691\n",
      "[P(-0.5< Z < 0.5)]:Probability that a current measurement is between 9 mA and 11 mA ==0.383\n",
      "Determine the current measurement which has a probability of 0.98 is 14.1𝑚𝐴\n"
     ]
    }
   ],
   "source": [
    "mean = 10\n",
    "std = np.sqrt(4)\n",
    "print(std)\n",
    "def I(z, b=-np.inf):\n",
    "    z = (z-mean)/std\n",
    "    return integrate.quad(norm.pdf,b,z)[0]\n",
    "print(\"Probability that a current measurement will exceed 13 mA=\",1-I(13))\n",
    "\n",
    "z9_score= (9-10)/2\n",
    "print('Z-score for 9 mA current is=',z9_score)\n",
    "\n",
    "z11_score= (11-10)/2\n",
    "print('Z-score for 11 mA current is=',z11_score)\n",
    "def P2(z,b=-np.inf) :\n",
    "    return integrate.quad(norm.pdf,b,z)[0]\n",
    "p_z9=P2(z9_score)\n",
    "\n",
    "p_z11=P2(z11_score)\n",
    "\n",
    "print('P(Z < -0.5) =%.3f'%p_z9)\n",
    "print('P(Z < 0.5) =%.3f'%p_z11)\n",
    "print('[P(-0.5< Z < 0.5)]:Probability that a current measurement is between 9 mA and 11 mA ==%.3f'%(p_z11-p_z9))\n",
    "\n",
    "#Determine the current measurement which has a probability of 0.98.\n",
    "#P(Z < z) = 0.98\n",
    "\n",
    "#Using tables, z comes around 2.05\n",
    "\n",
    "#P(Z < z) = 0.98\n",
    "z=2.05\n",
    "#z=(x-𝜇)/𝜎\n",
    "\n",
    "#z =(𝑥−𝜇)/𝜎 ⟹ 𝑥 = 𝑧∗𝜎+𝜇\n",
    "\n",
    "x= z*2+10\n",
    "print(f\"Determine the current measurement which has a probability of 0.98 is {x}𝑚𝐴\")"
   ]
  },
  {
   "cell_type": "markdown",
   "id": "6b4e6f32",
   "metadata": {},
   "source": [
    "Mean current is 10 mA\n",
    "\n",
    "Variance is 4 mA\n",
    "\n",
    "Standard deviation is 4^(1/2) = 2 mA\n",
    "\n",
    "Z-score for 13 mA current is  (13-10)/2 = 1.5\n",
    "\n",
    "We need to find P(Z > z)= P(Z > 1.5) = 1 - P(Z < 1.5)\n",
    "\n",
    "Using tables, we find that P(Z < 1.5) is 0.933. So probability of P(Z > 1.5) is 1 - 0.933 = 0.067.\n",
    "\n",
    "Probability that a current exceeding 13 mA will flow is 0.067\n",
    "\n",
    "Z-score for 9 mA current is  (9-10)/2 = -0.5\n",
    "\n",
    "Z-score for 11 mA current is  (11-10)/2 = 0.5\n",
    "\n",
    "P(-0.5< Z < 0.5) = P(Z < 0.5) - P(Z < -0.5) = 0.691 - 0.309 = 0.382 ≈ 0.38\n",
    "\n",
    "P(Z < z) = 0.98\n",
    "\n",
    "Using tables, z comes around 2.05\n",
    "\n",
    "P(Z < z) = 0.98\n",
    "\n",
    "z value from table: 2.05\n",
    "\n",
    "z =(𝑥−𝜇)/𝜎 ⟹ 𝑥 = 𝑧∗𝜎+𝜇\n",
    "\n",
    "Determine the current measurement which has a probability of 0.98. x=(2.05∗2+10)=14.1𝑚𝐴"
   ]
  },
  {
   "cell_type": "markdown",
   "id": "f2a9d58a",
   "metadata": {},
   "source": [
    "**Problem Statement 12:**\n",
    "\n",
    "The shaft in a piston has its diameter normally distributed with a mean of 0.2508 inch\n",
    "and a standard deviation of 0.0005 inch. The specifications of the shaft are 0.2500 ∓\n",
    "0.0015 inch. What proportion of shafts are in sync with the specifications? If the\n",
    "process is centered so that the mean is equal to the target value of 0.2500, what\n",
    "proportion of shafts conform to the new specifications? What is your conclusion from\n",
    "this experiment?"
   ]
  },
  {
   "cell_type": "code",
   "execution_count": 393,
   "id": "214e0d93",
   "metadata": {},
   "outputs": [
    {
     "name": "stdout",
     "output_type": "stream",
     "text": [
      "Proportion of shafts with dia in range of 0.2485<d<0.2515 when mean diameter: -4.6000000000000485\n",
      "Proportion of shafts with dia in range of 0.2485<d<0.2515 when mean diameter: 1.3999999999999568\n",
      "P(z<1.4)=0.92\n",
      "P(z<-4.6)=0.00\n",
      "P(-4.6< Z < 1.4)=0.92\n"
     ]
    }
   ],
   "source": [
    "mean=0.2508\n",
    "std=0.0005\n",
    "#specified dia in the range of 0.2485<d<0.2515\n",
    "#case-1 if mean_dia=0.2508\n",
    "\n",
    "a=float(0.2485-0.2508)/float(std)\n",
    "b=float(0.2515-0.2508)/float(std)\n",
    "print(\"Proportion of shafts with dia in range of 0.2485<d<0.2515 when mean diameter:\",a)\n",
    "print(\"Proportion of shafts with dia in range of 0.2485<d<0.2515 when mean diameter:\",b)\n",
    "\n",
    "from scipy.stats import norm\n",
    "def P1(z,b=-np.inf) :\n",
    "    return integrate.quad(norm.pdf,b,z)[0]\n",
    "z1=P1(1.4)\n",
    "z2=P1(-4.6)\n",
    "print('P(z<1.4)=%.2f'%z1)\n",
    "print('P(z<-4.6)=%.2f'%z2)\n",
    "\n",
    "print('P(-4.6< Z < 1.4)=%.2f'%(z1-z2))"
   ]
  },
  {
   "cell_type": "markdown",
   "id": "b02dc815",
   "metadata": {},
   "source": [
    "**Conclusion :**\n",
    "\n",
    "Mean diameter is 0.2508 inch\n",
    "\n",
    "Standard deviation is 0.0005 inch\n",
    "\n",
    "Z-score for (0.2500 - 0.0015) 0.2485 is (0.2485−0.25080)/.0005=−4.6\n",
    "\n",
    "Z-score for (0.2500 + 0.0015) 0.2515 is (0.2515−0.25080)/.0005=1.4\n",
    "\n",
    " P(-4.6< Z < 1.4)=𝑃(𝑍<1.4)−𝑃(𝑍<−4.6)=0.92.\n",
    "\n",
    "**P value is 0.92, so the shafts are in sync**"
   ]
  },
  {
   "cell_type": "code",
   "execution_count": 394,
   "id": "e9a39804",
   "metadata": {},
   "outputs": [
    {
     "name": "stdout",
     "output_type": "stream",
     "text": [
      "Proportion of shafts with dia in range of 0.2485<d<0.2515 when mean diameter: -3.0000000000000027\n",
      "Proportion of shafts with dia in range of 0.2485<d<0.2515 when mean diameter: 3.0000000000000027\n",
      "P(z < 3)=0.00135\n",
      "P(z <- 3)=0.99865\n",
      "P(-3 < Z < 3)=0.99730\n"
     ]
    }
   ],
   "source": [
    "a1=float(0.2485-0.2500)/float(std)\n",
    "b1=float(0.2515-0.2500)/float(std)\n",
    "print(\"Proportion of shafts with dia in range of 0.2485<d<0.2515 when mean diameter:\",a1)\n",
    "print(\"Proportion of shafts with dia in range of 0.2485<d<0.2515 when mean diameter:\",b1)\n",
    "\n",
    "from scipy.stats import norm\n",
    "def P1(z,b=-np.inf) :\n",
    "    return integrate.quad(norm.pdf,b,z)[0]\n",
    "z3=P1(a1)\n",
    "z4=P1(b1)\n",
    "print('P(z < 3)=%.5f'%z3)\n",
    "print('P(z <- 3)=%.5f'%z4)\n",
    "\n",
    "print('P(-3 < Z < 3)=%.5f'%(z4-z3))"
   ]
  },
  {
   "cell_type": "markdown",
   "id": "27697998",
   "metadata": {},
   "source": [
    "**Conclusion:**\n",
    "\n",
    " mean=0.2500\n",
    "\n",
    "Z-score for (0.2500 - 0.0015) 0.2485 is (0.2485-0.2500)/(0.0005) = -3\n",
    "\n",
    "Z-score for (0.2500 + 0.0015) 0.2515 is (0.2515-0.2500)/(0.0005) = 3\n",
    "\n",
    "P(-3< Z < 3) = P(Z < 3) - P(Z < -3) = 0.9973.\n",
    "\n",
    "So, 0.997 of the shafts are in sync\n",
    "\n",
    "\n",
    "\n",
    "If mean changes is from 0.2508 to 0.2500, then the proportion of shaft increases from 92% to 99.73%"
   ]
  },
  {
   "cell_type": "markdown",
   "id": "eacb12ab",
   "metadata": {},
   "source": []
  }
 ],
 "metadata": {
  "kernelspec": {
   "display_name": "Python 3",
   "language": "python",
   "name": "python3"
  },
  "language_info": {
   "codemirror_mode": {
    "name": "ipython",
    "version": 3
   },
   "file_extension": ".py",
   "mimetype": "text/x-python",
   "name": "python",
   "nbconvert_exporter": "python",
   "pygments_lexer": "ipython3",
   "version": "3.8.8"
  }
 },
 "nbformat": 4,
 "nbformat_minor": 5
}

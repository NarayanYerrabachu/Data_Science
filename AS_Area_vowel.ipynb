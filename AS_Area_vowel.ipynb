{
 "cells": [
  {
   "cell_type": "markdown",
   "id": "85d80816",
   "metadata": {},
   "source": [
    "**1.1 Write a Python Program(with class concepts) to find the area of the triangle using the below\n",
    "formula.**\n",
    "\n",
    "area = (s*(s-a)*(s-b)*(s-c)) ** 0.5\n",
    "\n",
    "**Function to take the length of the sides of triangle from user should be defined in the parent\n",
    "class and function to calculate the area should be defined in subclass.**"
   ]
  },
  {
   "cell_type": "code",
   "execution_count": 23,
   "id": "0ccff771",
   "metadata": {},
   "outputs": [],
   "source": [
    "#Parent class\n",
    "class Triangle:\n",
    "    def __init__(self):\n",
    "        ''' This method has been used as an self constructor for Traingle class'''\n",
    "        number_of_dimensions=['a','b','c']\n",
    "        self.TriangleSides=number_of_dimensions\n",
    "        \n",
    "    def dimensions_Of_Triangle(self):\n",
    "        ''' This method will return sides of Traingle'''\n",
    "        self.dimensions_Of_Triangle=[input(\"Enter the Side \"+i+\" :\") for i in self.TriangleSides]\n",
    "        \n",
    "#  sub Class    \n",
    "class CalculateTraingle(Triangle):\n",
    "    def __init__(self):\n",
    "        Triangle.__init__(self)\n",
    "        \n",
    "    def getArea(self):\n",
    "        '''This method will return an Area of Triangle'''\n",
    "\n",
    "        triangleSides=iter(self.dimensions_Of_Triangle)\n",
    "        a=float(next(triangleSides))\n",
    "        b=float(next(triangleSides))\n",
    "        c=float(next(triangleSides))      \n",
    "           \n",
    "            \n",
    "        s= (a+b+c)/2        \n",
    "              \n",
    "        Area = (s*(s-a)*(s-b)*(s-c))**0.5   \n",
    "        print(\"The sides of triangle are a=\"+str(a)+\", b=\"+str(b)+\", c=\"+str(c))     \n",
    "        Area = ('The Area of the triangle is %0.2f' %Area )\n",
    "       \n",
    "        print(Area)"
   ]
  },
  {
   "cell_type": "code",
   "execution_count": 24,
   "id": "9ce89650",
   "metadata": {},
   "outputs": [],
   "source": [
    "\n",
    "areaInstance = CalculateTraingle()"
   ]
  },
  {
   "cell_type": "code",
   "execution_count": 25,
   "id": "d704b0c1",
   "metadata": {},
   "outputs": [
    {
     "name": "stdout",
     "output_type": "stream",
     "text": [
      "Enter the Side a :12\n",
      "Enter the Side b :23\n",
      "Enter the Side c :34\n"
     ]
    }
   ],
   "source": [
    "#Enter the dimensions of Triangle\n",
    "areaInstance.dimensions_Of_Triangle()"
   ]
  },
  {
   "cell_type": "code",
   "execution_count": 26,
   "id": "09a8bb53",
   "metadata": {},
   "outputs": [
    {
     "name": "stdout",
     "output_type": "stream",
     "text": [
      "The sides of triangle are a=12.0, b=23.0, c=34.0\n",
      "The Area of the triangle is 66.81\n"
     ]
    }
   ],
   "source": [
    "# Calculate the Area Of Triangle\n",
    "areaInstance.getArea()"
   ]
  },
  {
   "cell_type": "markdown",
   "id": "cf4b46f9",
   "metadata": {},
   "source": [
    "\n",
    "*********************************************************************************************************\n",
    "\n",
    "**2.1 Write a Python program using function concept that maps list of words into a list of integers\n",
    "representing the lengths of the corresponding words.**\n",
    "\n",
    "Hint: If a list [ ab,cde,erty] is passed on to the python function output should come as [2,3,4]\n",
    "\n",
    "Here 2,3 and 4 are the lengths of the words in the list."
   ]
  },
  {
   "cell_type": "code",
   "execution_count": 27,
   "id": "525df09e",
   "metadata": {},
   "outputs": [
    {
     "name": "stdout",
     "output_type": "stream",
     "text": [
      "Initialised list_Utilities object\n",
      "length of the words [3, 6, 4]\n"
     ]
    }
   ],
   "source": [
    "class list_Utilities:\n",
    "     def __init__(self, wordlist):\n",
    "        self.wordlist = wordlist\n",
    "        print (\"Initialised list_Utilities object\")\n",
    "     \n",
    "     def map_to_lengths_lists(self):\n",
    "        return [len(word) for word in self.wordlist]\n",
    "\n",
    "\n",
    "words = ['abv', 'try me', 'test']\n",
    "instance = list_Utilities(words)\n",
    "result = instance.map_to_lengths_lists()\n",
    "print(\"length of the words\",result)"
   ]
  },
  {
   "cell_type": "markdown",
   "id": "80ee8c7b",
   "metadata": {},
   "source": [
    "**2.2 Write a Python function which takes a character (i.e. a string of length 1) and returns True if\n",
    "it is a vowel, False otherwise.**"
   ]
  },
  {
   "cell_type": "code",
   "execution_count": 44,
   "id": "73043c73",
   "metadata": {},
   "outputs": [
    {
     "name": "stdout",
     "output_type": "stream",
     "text": [
      "Enter the Side :wer\n",
      "Please enter a valid character\n"
     ]
    }
   ],
   "source": [
    "def isVowel(char):\n",
    "    all_vowels = 'aeiou'\n",
    "    return char in all_vowels\n",
    "\n",
    "char = input(\"Enter the Side :\")\n",
    "\n",
    "if(len(char) != 1):\n",
    "    print(\"Please enter a valid character\")\n",
    "else:\n",
    "    print(\"result:\", isVowel(char))\n",
    "    \n",
    "\n"
   ]
  },
  {
   "cell_type": "code",
   "execution_count": null,
   "id": "0d078767",
   "metadata": {},
   "outputs": [],
   "source": []
  }
 ],
 "metadata": {
  "kernelspec": {
   "display_name": "Python 3",
   "language": "python",
   "name": "python3"
  },
  "language_info": {
   "codemirror_mode": {
    "name": "ipython",
    "version": 3
   },
   "file_extension": ".py",
   "mimetype": "text/x-python",
   "name": "python",
   "nbconvert_exporter": "python",
   "pygments_lexer": "ipython3",
   "version": "3.8.8"
  }
 },
 "nbformat": 4,
 "nbformat_minor": 5
}

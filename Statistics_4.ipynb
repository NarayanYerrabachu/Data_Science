{
 "cells": [
  {
   "cell_type": "markdown",
   "id": "169b6d3d",
   "metadata": {},
   "source": [
    "**Problem Statement 1:**\n",
    "    \n",
    "**Is gender independent of education level? A random sample of 395 people were surveyed and each person was asked to report the highest education level they obtained. The data that resulted from the survey is summarized in the following table:\n",
    "High School Bachelors Masters Ph.d. Total**\n",
    "\n",
    "**Female 60 54 46 41 201**\n",
    "\n",
    "**Male 40 44 53 57 194**\n",
    "\n",
    "**Total 100 98 99 98 395**\n",
    "\n",
    "**Question: Are gender and education level dependent at 5% level of significance? In other words, given the data collected above, is there a relationship between the gender of an individual and the level of education that they have obtained?**\n",
    "\n",
    "Null Hypothesis: The two categorical variables are independent.\n",
    "\n",
    "Alternative Hypothesis: The two categorical variables are dependent"
   ]
  },
  {
   "cell_type": "code",
   "execution_count": 1,
   "id": "ffc1bbb3",
   "metadata": {},
   "outputs": [
    {
     "name": "stdout",
     "output_type": "stream",
     "text": [
      "Populating the interactive namespace from numpy and matplotlib\n"
     ]
    }
   ],
   "source": [
    "import numpy as np\n",
    "import pandas as pd\n",
    "import scipy.stats as stats\n",
    "%pylab inline\n",
    "pylab.style.use('ggplot')\n",
    "import seaborn as sns"
   ]
  },
  {
   "cell_type": "code",
   "execution_count": 2,
   "id": "841c7f6a",
   "metadata": {},
   "outputs": [],
   "source": [
    "female = [60, 54, 46, 41]\n",
    "male = [40, 44, 53, 57]\n",
    "high_school = [60,40]\n",
    "bachelors = [54,44]\n",
    "masters = [46, 53]\n",
    "phd = [41, 57]"
   ]
  },
  {
   "cell_type": "code",
   "execution_count": 3,
   "id": "28727e54",
   "metadata": {},
   "outputs": [],
   "source": [
    "gender_data = pd.DataFrame(data=[[60, 54, 46, 41], \n",
    "                                 [40, 44, 53, 57]],\n",
    "                          index=['female', 'male'],\n",
    "                          columns=['High School', 'Bachelors', 'Masters', 'Ph.d.'])"
   ]
  },
  {
   "cell_type": "code",
   "execution_count": 4,
   "id": "23595e0f",
   "metadata": {},
   "outputs": [
    {
     "data": {
      "text/html": [
       "<div>\n",
       "<style scoped>\n",
       "    .dataframe tbody tr th:only-of-type {\n",
       "        vertical-align: middle;\n",
       "    }\n",
       "\n",
       "    .dataframe tbody tr th {\n",
       "        vertical-align: top;\n",
       "    }\n",
       "\n",
       "    .dataframe thead th {\n",
       "        text-align: right;\n",
       "    }\n",
       "</style>\n",
       "<table border=\"1\" class=\"dataframe\">\n",
       "  <thead>\n",
       "    <tr style=\"text-align: right;\">\n",
       "      <th></th>\n",
       "      <th>High School</th>\n",
       "      <th>Bachelors</th>\n",
       "      <th>Masters</th>\n",
       "      <th>Ph.d.</th>\n",
       "    </tr>\n",
       "  </thead>\n",
       "  <tbody>\n",
       "    <tr>\n",
       "      <th>female</th>\n",
       "      <td>60</td>\n",
       "      <td>54</td>\n",
       "      <td>46</td>\n",
       "      <td>41</td>\n",
       "    </tr>\n",
       "    <tr>\n",
       "      <th>male</th>\n",
       "      <td>40</td>\n",
       "      <td>44</td>\n",
       "      <td>53</td>\n",
       "      <td>57</td>\n",
       "    </tr>\n",
       "  </tbody>\n",
       "</table>\n",
       "</div>"
      ],
      "text/plain": [
       "        High School  Bachelors  Masters  Ph.d.\n",
       "female           60         54       46     41\n",
       "male             40         44       53     57"
      ]
     },
     "execution_count": 4,
     "metadata": {},
     "output_type": "execute_result"
    }
   ],
   "source": [
    "gender_data"
   ]
  },
  {
   "cell_type": "code",
   "execution_count": 5,
   "id": "737d056d",
   "metadata": {},
   "outputs": [],
   "source": [
    "education_wise = pd.melt(gender_data.reset_index(), \n",
    "                      id_vars='index', \n",
    "                      var_name='education', \n",
    "                      value_name='marks').rename(columns={'index': 'gender'})"
   ]
  },
  {
   "cell_type": "code",
   "execution_count": 6,
   "id": "286abd03",
   "metadata": {},
   "outputs": [
    {
     "data": {
      "text/html": [
       "<div>\n",
       "<style scoped>\n",
       "    .dataframe tbody tr th:only-of-type {\n",
       "        vertical-align: middle;\n",
       "    }\n",
       "\n",
       "    .dataframe tbody tr th {\n",
       "        vertical-align: top;\n",
       "    }\n",
       "\n",
       "    .dataframe thead th {\n",
       "        text-align: right;\n",
       "    }\n",
       "</style>\n",
       "<table border=\"1\" class=\"dataframe\">\n",
       "  <thead>\n",
       "    <tr style=\"text-align: right;\">\n",
       "      <th></th>\n",
       "      <th>gender</th>\n",
       "      <th>education</th>\n",
       "      <th>marks</th>\n",
       "    </tr>\n",
       "  </thead>\n",
       "  <tbody>\n",
       "    <tr>\n",
       "      <th>0</th>\n",
       "      <td>female</td>\n",
       "      <td>High School</td>\n",
       "      <td>60</td>\n",
       "    </tr>\n",
       "    <tr>\n",
       "      <th>1</th>\n",
       "      <td>male</td>\n",
       "      <td>High School</td>\n",
       "      <td>40</td>\n",
       "    </tr>\n",
       "    <tr>\n",
       "      <th>2</th>\n",
       "      <td>female</td>\n",
       "      <td>Bachelors</td>\n",
       "      <td>54</td>\n",
       "    </tr>\n",
       "    <tr>\n",
       "      <th>3</th>\n",
       "      <td>male</td>\n",
       "      <td>Bachelors</td>\n",
       "      <td>44</td>\n",
       "    </tr>\n",
       "    <tr>\n",
       "      <th>4</th>\n",
       "      <td>female</td>\n",
       "      <td>Masters</td>\n",
       "      <td>46</td>\n",
       "    </tr>\n",
       "    <tr>\n",
       "      <th>5</th>\n",
       "      <td>male</td>\n",
       "      <td>Masters</td>\n",
       "      <td>53</td>\n",
       "    </tr>\n",
       "    <tr>\n",
       "      <th>6</th>\n",
       "      <td>female</td>\n",
       "      <td>Ph.d.</td>\n",
       "      <td>41</td>\n",
       "    </tr>\n",
       "    <tr>\n",
       "      <th>7</th>\n",
       "      <td>male</td>\n",
       "      <td>Ph.d.</td>\n",
       "      <td>57</td>\n",
       "    </tr>\n",
       "  </tbody>\n",
       "</table>\n",
       "</div>"
      ],
      "text/plain": [
       "   gender    education  marks\n",
       "0  female  High School     60\n",
       "1    male  High School     40\n",
       "2  female    Bachelors     54\n",
       "3    male    Bachelors     44\n",
       "4  female      Masters     46\n",
       "5    male      Masters     53\n",
       "6  female        Ph.d.     41\n",
       "7    male        Ph.d.     57"
      ]
     },
     "execution_count": 6,
     "metadata": {},
     "output_type": "execute_result"
    }
   ],
   "source": [
    "education_wise"
   ]
  },
  {
   "cell_type": "code",
   "execution_count": 21,
   "id": "d9b86cb6",
   "metadata": {},
   "outputs": [
    {
     "data": {
      "image/png": "[encoded data removed]",
      "text/plain": [
       "<Figure size 430.5x360 with 1 Axes>"
      ]
     },
     "metadata": {},
     "output_type": "display_data"
    }
   ],
   "source": [
    "import warnings\n",
    "#suppress warnings\n",
    "warnings.filterwarnings('ignore')\n",
    "g = sns.factorplot(kind='bar', x='education', y='marks', hue=\"gender\", data=education_wise)"
   ]
  },
  {
   "cell_type": "code",
   "execution_count": 8,
   "id": "b5316875",
   "metadata": {},
   "outputs": [
    {
     "data": {
      "text/plain": [
       "female    201\n",
       "male      194\n",
       "dtype: int64"
      ]
     },
     "execution_count": 8,
     "metadata": {},
     "output_type": "execute_result"
    }
   ],
   "source": [
    "row_totals = gender_data.sum(axis=1)\n",
    "row_totals"
   ]
  },
  {
   "cell_type": "code",
   "execution_count": 9,
   "id": "e6b44b03",
   "metadata": {},
   "outputs": [
    {
     "data": {
      "text/html": [
       "<div>\n",
       "<style scoped>\n",
       "    .dataframe tbody tr th:only-of-type {\n",
       "        vertical-align: middle;\n",
       "    }\n",
       "\n",
       "    .dataframe tbody tr th {\n",
       "        vertical-align: top;\n",
       "    }\n",
       "\n",
       "    .dataframe thead th {\n",
       "        text-align: right;\n",
       "    }\n",
       "</style>\n",
       "<table border=\"1\" class=\"dataframe\">\n",
       "  <thead>\n",
       "    <tr style=\"text-align: right;\">\n",
       "      <th></th>\n",
       "      <th>High School</th>\n",
       "      <th>Bachelors</th>\n",
       "      <th>Masters</th>\n",
       "      <th>Ph.d.</th>\n",
       "    </tr>\n",
       "  </thead>\n",
       "  <tbody>\n",
       "    <tr>\n",
       "      <th>0</th>\n",
       "      <td>100</td>\n",
       "      <td>98</td>\n",
       "      <td>99</td>\n",
       "      <td>98</td>\n",
       "    </tr>\n",
       "  </tbody>\n",
       "</table>\n",
       "</div>"
      ],
      "text/plain": [
       "   High School  Bachelors  Masters  Ph.d.\n",
       "0          100         98       99     98"
      ]
     },
     "execution_count": 9,
     "metadata": {},
     "output_type": "execute_result"
    }
   ],
   "source": [
    "column_totals = gender_data.sum(axis=0)\n",
    "column_totals.to_frame().T"
   ]
  },
  {
   "cell_type": "code",
   "execution_count": 10,
   "id": "f1c107cd",
   "metadata": {},
   "outputs": [
    {
     "data": {
      "text/html": [
       "<div>\n",
       "<style scoped>\n",
       "    .dataframe tbody tr th:only-of-type {\n",
       "        vertical-align: middle;\n",
       "    }\n",
       "\n",
       "    .dataframe tbody tr th {\n",
       "        vertical-align: top;\n",
       "    }\n",
       "\n",
       "    .dataframe thead th {\n",
       "        text-align: right;\n",
       "    }\n",
       "</style>\n",
       "<table border=\"1\" class=\"dataframe\">\n",
       "  <thead>\n",
       "    <tr style=\"text-align: right;\">\n",
       "      <th></th>\n",
       "      <th>High School</th>\n",
       "      <th>Bachelors</th>\n",
       "      <th>Masters</th>\n",
       "      <th>Ph.d.</th>\n",
       "    </tr>\n",
       "  </thead>\n",
       "  <tbody>\n",
       "    <tr>\n",
       "      <th>female</th>\n",
       "      <td>50.886076</td>\n",
       "      <td>49.868354</td>\n",
       "      <td>50.377215</td>\n",
       "      <td>49.868354</td>\n",
       "    </tr>\n",
       "    <tr>\n",
       "      <th>male</th>\n",
       "      <td>49.113924</td>\n",
       "      <td>48.131646</td>\n",
       "      <td>48.622785</td>\n",
       "      <td>48.131646</td>\n",
       "    </tr>\n",
       "  </tbody>\n",
       "</table>\n",
       "</div>"
      ],
      "text/plain": [
       "        High School  Bachelors    Masters      Ph.d.\n",
       "female    50.886076  49.868354  50.377215  49.868354\n",
       "male      49.113924  48.131646  48.622785  48.131646"
      ]
     },
     "execution_count": 10,
     "metadata": {},
     "output_type": "execute_result"
    }
   ],
   "source": [
    "expected_frequencies = pd.concat(\n",
    "    {c: row_totals for c in gender_data.columns}, \n",
    "    axis=1).mul(column_totals).div(gender_data.sum(axis=1).sum())\n",
    "expected_frequencies"
   ]
  },
  {
   "cell_type": "code",
   "execution_count": 11,
   "id": "e21df44f",
   "metadata": {},
   "outputs": [
    {
     "data": {
      "text/plain": [
       "8.006066246262538"
      ]
     },
     "execution_count": 11,
     "metadata": {},
     "output_type": "execute_result"
    }
   ],
   "source": [
    "#Chi Square test statistic\n",
    "t_stat = gender_data.sub(\n",
    "    expected_frequencies).pow(2.0).div(\n",
    "    expected_frequencies).sum(axis=1).sum()\n",
    "t_stat"
   ]
  },
  {
   "cell_type": "code",
   "execution_count": 12,
   "id": "e07a7bbb",
   "metadata": {},
   "outputs": [
    {
     "data": {
      "text/plain": [
       "3"
      ]
     },
     "execution_count": 12,
     "metadata": {},
     "output_type": "execute_result"
    }
   ],
   "source": [
    "df = (gender_data.shape[0]-1) * (gender_data.shape[1]-1)\n",
    "df"
   ]
  },
  {
   "cell_type": "code",
   "execution_count": 13,
   "id": "aff26b75",
   "metadata": {},
   "outputs": [
    {
     "name": "stdout",
     "output_type": "stream",
     "text": [
      "P-val of chi^2 test at significance level 0.05 is 0.0459\n"
     ]
    }
   ],
   "source": [
    "from scipy.stats import chi2\n",
    "chi2_dist = chi2(df=df)\n",
    "p_val = chi2_dist.sf(t_stat)\n",
    "\n",
    "sig_level = 0.05\n",
    "print('P-val of chi^2 test at significance level {:.2f} is {:.4f}'.format(sig_level, p_val))"
   ]
  },
  {
   "cell_type": "markdown",
   "id": "f974bee1",
   "metadata": {},
   "source": [
    "P-val of chi^2 test at significance level 0.05 is 0.0459 Since the P-val is less than the significance level, we will reject the null hypothesis Conslusion is that the two categorical variables are dependent. Education level is dependent on gender at 5% significance level."
   ]
  },
  {
   "cell_type": "markdown",
   "id": "d9f06a65",
   "metadata": {},
   "source": [
    "**Problem Statement 2:**\n",
    "    \n",
    "**Using the following data, perform a oneway analysis of variance using α=.05. Write up the results in APA format.**\n",
    "\n",
    "**[Group1: 51, 45, 33, 45, 67]**\n",
    "\n",
    "**[Group2: 23, 43, 23, 43, 45]**\n",
    "\n",
    "**[Group3: 56, 76, 74, 87, 56]**\n",
    "\n",
    "ANOVA is a statistical inference test that lets us to compare multiple groups at the same time.."
   ]
  },
  {
   "cell_type": "code",
   "execution_count": 14,
   "id": "4dd18dfe",
   "metadata": {},
   "outputs": [],
   "source": [
    "import scipy.stats as stats"
   ]
  },
  {
   "cell_type": "code",
   "execution_count": 15,
   "id": "cf42349f",
   "metadata": {},
   "outputs": [],
   "source": [
    "group1 = [51, 45, 33, 45, 67]\n",
    "group2 = [23, 43, 23, 43, 45]\n",
    "group3 = [56, 76, 74, 87, 56]"
   ]
  },
  {
   "cell_type": "code",
   "execution_count": 16,
   "id": "609c778a",
   "metadata": {},
   "outputs": [
    {
     "name": "stdout",
     "output_type": "stream",
     "text": [
      "F Statistic value is 9.747205503009463, and pvalue is 0.0030597541434430556\n"
     ]
    }
   ],
   "source": [
    "statistic, pvalue = stats.f_oneway(group1,group2, group3 )\n",
    "print(\"F Statistic value is {}, and pvalue is {}\".format(statistic,pvalue ))"
   ]
  },
  {
   "cell_type": "markdown",
   "id": "490f82c7",
   "metadata": {},
   "source": [
    "pvalue is less than 0.05 So the groups have differnet sample means."
   ]
  },
  {
   "cell_type": "markdown",
   "id": "9b59c767",
   "metadata": {},
   "source": [
    "**Problem Statement 3:**\n",
    "\n",
    "**Calculate F Test for given 10, 20, 30, 40, 50 and 5,10,15, 20, 25. For 10, 20, 30, 40, 50:**"
   ]
  },
  {
   "cell_type": "code",
   "execution_count": 17,
   "id": "84307187",
   "metadata": {},
   "outputs": [
    {
     "data": {
      "text/plain": [
       "F_onewayResult(statistic=3.6, pvalue=0.0943497728424377)"
      ]
     },
     "execution_count": 17,
     "metadata": {},
     "output_type": "execute_result"
    }
   ],
   "source": [
    "stats.f_oneway([10, 20, 30, 40, 50],[5,10,15, 20, 25] )"
   ]
  },
  {
   "cell_type": "code",
   "execution_count": 18,
   "id": "01983292",
   "metadata": {},
   "outputs": [
    {
     "name": "stdout",
     "output_type": "stream",
     "text": [
      "F Test for given dataset is :  4.0\n"
     ]
    }
   ],
   "source": [
    "group1= [10, 20, 30, 40, 50]\n",
    "group2 = [5,10,15, 20, 25]\n",
    "mean1 = np.mean(group1)\n",
    "mean2 = np.mean(group2)\n",
    "var_cal_1 = 0\n",
    "var_cal_2 = 0\n",
    "for i in group1:\n",
    "    var_cal_1 += (i-mean1)**2\n",
    "\n",
    "for i in group2:\n",
    "    var_cal_2 += (i-mean2)**2\n",
    "\n",
    "var1 =  var_cal_1/4\n",
    "var2 =  var_cal_2/4\n",
    "Ftest = var1/var2\n",
    "print(\"F Test for given dataset is : \",Ftest)"
   ]
  },
  {
   "cell_type": "code",
   "execution_count": null,
   "id": "2b29ae2f",
   "metadata": {},
   "outputs": [],
   "source": []
  }
 ],
 "metadata": {
  "kernelspec": {
   "display_name": "Python 3 (ipykernel)",
   "language": "python",
   "name": "python3"
  },
  "language_info": {
   "codemirror_mode": {
    "name": "ipython",
    "version": 3
   },
   "file_extension": ".py",
   "mimetype": "text/x-python",
   "name": "python",
   "nbconvert_exporter": "python",
   "pygments_lexer": "ipython3",
   "version": "3.8.8"
  }
 },
 "nbformat": 4,
 "nbformat_minor": 5
}
